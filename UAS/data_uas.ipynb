{
 "cells": [
  {
   "cell_type": "code",
   "execution_count": null,
   "metadata": {},
   "outputs": [],
   "source": [
    "import pandas as pd\n",
    "import matplotlib as plt\n",
    "df = pd.read_csv('uas.csv')"
   ]
  },
  {
   "cell_type": "code",
   "execution_count": null,
   "metadata": {},
   "outputs": [],
   "source": [
    "# Data Cleansing untuk mengganti data kosong dengan angka 0 dan menghapus tanda negatif\n",
    "df1=df.fillna(0)\n",
    "df1 = df.loc[df[\"Year\"].duplicated(keep='first') == False]\n",
    "df1 = df1.fillna(0)\n",
    "df1[\"GoalsScored\"] = df1[\"GoalsScored\"].abs()\n",
    "df1[\"QualifiedTeams\"] = df1[\"QualifiedTeams\"].abs()\n",
    "df1[\"MatchesPlayed\"] = df1[\"MatchesPlayed\"].abs()\n",
    "df1[\"Attendance\"] = df1[\"Attendance\"].abs()"
   ]
  },
  {
   "cell_type": "code",
   "execution_count": null,
   "metadata": {},
   "outputs": [],
   "source": [
    "df1['Attendance'].mean()"
   ]
  },
  {
   "cell_type": "code",
   "execution_count": null,
   "metadata": {},
   "outputs": [],
   "source": [
    "df1['GoalsScored'].std()"
   ]
  },
  {
   "cell_type": "code",
   "execution_count": null,
   "metadata": {},
   "outputs": [],
   "source": [
    "mxc = (df1[\"Country\"] == \"Mexico\").value_counts()\n",
    "\n",
    "print(\"Mexico menjadi tuan rumah sebanyak\",mxc)"
   ]
  },
  {
   "cell_type": "code",
   "execution_count": null,
   "metadata": {},
   "outputs": [],
   "source": [
    "df2 = df1.loc[df1['Attendance'] > 0]\n",
    "df2[\"Organization\"].hist(bins = 20, rwidth = 0.9)"
   ]
  },
  {
   "cell_type": "code",
   "execution_count": null,
   "metadata": {},
   "outputs": [],
   "source": [
    "df1['Winner'].value_counts().plot(kind = 'pie', autopct='%1.1f%%', title = 'Negara pemenang FIFA World Cup Finals')\n",
    "plt.ylabel('')\n",
    "plt.show()"
   ]
  },
  {
   "cell_type": "code",
   "execution_count": null,
   "metadata": {},
   "outputs": [],
   "source": [
    "df2 = df1[\"Organization\"].value_counts()\n",
    "df2.plot(kind=\"barh\")"
   ]
  },
  {
   "cell_type": "code",
   "execution_count": null,
   "metadata": {},
   "outputs": [],
   "source": [
    "print(df1[\"QualifiedTeams\"].corr(df1[\"GoalsScored\"]))\n",
    "df1.plot(kind=\"scatter\",x=\"QualifiedTeams\", y=\"GoalsScored\")"
   ]
  }
 ],
 "metadata": {
  "interpreter": {
   "hash": "2a97c835aa520a10d6654ad56dd306e6bf25dd2bba14414fd708397e20a634e7"
  },
  "kernelspec": {
   "display_name": "Python 3.9.9 64-bit",
   "language": "python",
   "name": "python3"
  },
  "language_info": {
   "codemirror_mode": {
    "name": "ipython",
    "version": 3
   },
   "file_extension": ".py",
   "mimetype": "text/x-python",
   "name": "python",
   "nbconvert_exporter": "python",
   "pygments_lexer": "ipython3",
   "version": "3.9.9"
  },
  "orig_nbformat": 4
 },
 "nbformat": 4,
 "nbformat_minor": 2
}
