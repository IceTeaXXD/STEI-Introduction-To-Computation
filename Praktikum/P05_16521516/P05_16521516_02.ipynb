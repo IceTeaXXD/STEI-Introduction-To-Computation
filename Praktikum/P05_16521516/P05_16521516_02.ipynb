{
 "cells": [
  {
   "cell_type": "code",
   "execution_count": null,
   "metadata": {},
   "outputs": [],
   "source": [
    "# NIM/Nama  : 16521516/Ahmad Nadil\n",
    "# Tanggal   : 1 Desember 2021\n",
    "# Deskripsi : Analisis Data Rumah di Brazil\n",
    "# Judul     : Problem 2 Modul 5 Praktikum Pengenalan Komputasi 2021\n",
    "\n",
    "# Kamus :\n",
    "# import pandas as pd   = import library pandas dan assign pandas sebagai pd\n",
    "# df                    = variabel yang membaca data \"P05-2.csv\"\n",
    "# imax                  = variabel data 'bathroom' maximum(terbanyak)\n",
    "# df2                   = variabel data 'fire_insurance' > 70\n",
    "# df3                   = variabel data 'furniture' == 'not furnished'\n",
    "# pd.read_csv           = Baca data\n",
    "# len()                 = Fungsi membaca panjang data\n",
    "# idxmax                = Mencari indeks dengan nilai maksimum                       \n",
    "# .value_counts()       = membaca banyaknya data sesuai dengan nilai tiap data\n",
    "# .sort_values()        = pengurutan data berdasarkan kolom"
   ]
  },
  {
   "cell_type": "code",
   "execution_count": null,
   "metadata": {},
   "outputs": [],
   "source": [
    "# Import Module Pandas dan Membaca Data CSV\n",
    "import pandas as pd\n",
    "df = pd.read_csv(\"P05-02.csv\")"
   ]
  },
  {
   "cell_type": "code",
   "execution_count": null,
   "metadata": {},
   "outputs": [],
   "source": [
    "# 1. Banyak rumah yang mengizinkan membawa hewan dengan harga sewa di bawah 5000\n",
    "len(df.loc[(df[\"animal\"] == 'acept') & (df[\"rent_amount\"] < 5000)])"
   ]
  },
  {
   "cell_type": "code",
   "execution_count": null,
   "metadata": {},
   "outputs": [],
   "source": [
    "# 2. Data rumah dengan jumlah kamar mandi terbanyak\n",
    "imax = df[\"bathroom\"].idxmax()\n",
    "df[imax:imax+1]"
   ]
  },
  {
   "cell_type": "code",
   "execution_count": null,
   "metadata": {},
   "outputs": [],
   "source": [
    "# 3. Banyak rumah dengan luas di atas 200 dan pajak bangunan per tahun di bawah 1700\n",
    "df.loc[(df[\"area\"] > 200) & (df[\"property_tax\"] < 1700)]"
   ]
  },
  {
   "cell_type": "code",
   "execution_count": null,
   "metadata": {},
   "outputs": [],
   "source": [
    "# 4. Banyak rumah dengan biaya asuransi kebakaran di atas 70 untuk masing-masing kota\n",
    "df2 = df.loc[df['fire_insurance'] > 70]\n",
    "df2['city'].value_counts()"
   ]
  },
  {
   "cell_type": "code",
   "execution_count": null,
   "metadata": {},
   "outputs": [],
   "source": [
    "# 5. 5 Data rumah dengan jumlah lantai terbanyak dan not furnished\n",
    "df3 = df.loc[df['furniture'] == 'not furnished']\n",
    "df3.sort_values(['floor'],ascending=False)[:5]"
   ]
  }
 ],
 "metadata": {
  "interpreter": {
   "hash": "2a97c835aa520a10d6654ad56dd306e6bf25dd2bba14414fd708397e20a634e7"
  },
  "kernelspec": {
   "display_name": "Python 3.9.9 64-bit",
   "language": "python",
   "name": "python3"
  },
  "language_info": {
   "codemirror_mode": {
    "name": "ipython",
    "version": 3
   },
   "file_extension": ".py",
   "mimetype": "text/x-python",
   "name": "python",
   "nbconvert_exporter": "python",
   "pygments_lexer": "ipython3",
   "version": "3.9.9"
  },
  "orig_nbformat": 4
 },
 "nbformat": 4,
 "nbformat_minor": 2
}
