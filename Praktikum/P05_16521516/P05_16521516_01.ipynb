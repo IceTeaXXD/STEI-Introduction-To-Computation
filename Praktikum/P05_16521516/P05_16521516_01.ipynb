{
 "cells": [
  {
   "cell_type": "code",
   "execution_count": null,
   "metadata": {},
   "outputs": [],
   "source": [
    "# NIM/Nama  : 16521516/Ahmad Nadil\n",
    "# Tanggal   : 1 Desember 2021\n",
    "# Deskripsi : Analisis Data Perumahan\n",
    "# Judul     : Problem 1 Modul 5 Praktikum Pengenalan Komputasi 2021\n",
    "\n",
    "# Kamus :\n",
    "# import pandas as pd   = import library pandas dan assign pandas sebagai pd\n",
    "# df                    = variabel yang membaca data \"P05-3.csv\"\n",
    "# pd.read_csv           = Baca data\n",
    "# .value_counts()       = membaca banyaknya data sesuai dengan nilai tiap data\n",
    "# .sort_values()        = pengurutan data berdasarkan kolom\n",
    "# .corr()               = korelasi data"
   ]
  },
  {
   "cell_type": "code",
   "execution_count": null,
   "metadata": {},
   "outputs": [],
   "source": [
    "# Import Module Pandas dan Membaca Data CSV\n",
    "import pandas as pd\n",
    "df = pd.read_csv(\"P05-03.csv\")"
   ]
  },
  {
   "cell_type": "code",
   "execution_count": null,
   "metadata": {},
   "outputs": [],
   "source": [
    "# 1. Banyakanya rumah masing-masing neighbourhood\n",
    "df['neighbourhood'].value_counts()"
   ]
  },
  {
   "cell_type": "code",
   "execution_count": null,
   "metadata": {},
   "outputs": [],
   "source": [
    "# 2. Jumlah malam penyewaan minumum terbanyak\n",
    "print('Jumlah malam penyewaan minimum terbanyak : ')\n",
    "df['minimum_nights'].value_counts()[:1]"
   ]
  },
  {
   "cell_type": "code",
   "execution_count": null,
   "metadata": {},
   "outputs": [],
   "source": [
    "# 3. 5 data dengan posisi paling selatan (latitude minimum)\n",
    "df.sort_values(['latitude'],ascending=True)[:5]"
   ]
  },
  {
   "cell_type": "code",
   "execution_count": null,
   "metadata": {},
   "outputs": [],
   "source": [
    "# 4. Rumah yang ada di neighbourhood group West Region\n",
    "df.loc[df['neighbourhood_group'] == 'West Region']"
   ]
  },
  {
   "cell_type": "code",
   "execution_count": null,
   "metadata": {},
   "outputs": [],
   "source": [
    "# 5. Koefisien korelasi antara banyak review di aplikasi dengan banyaknya hari ketersediaan rumah dalam satu tahun\n",
    "df[\"number_of_reviews\"].corr(df[\"availability_365\"])\n",
    "\n",
    "# Jika nilai korelasi mendekati -1 , maka kedua variabel berbanding terbalik\n",
    "# Jika nilai korelasi mendekati 0 ,  maka kedua variabel tidak berhubungan\n",
    "# Jika nilai korelasi mendekati 1 , maka kedua variabel berbanding lurus\n",
    "\n",
    "# Karena Nilai Korelasi yang diperoleh bernilai -0.06 , angka tersebut mendekati 0, \n",
    "# maka banyak review aplikasi dan banyak hari ketersediaan rumah tidak berhubungan"
   ]
  }
 ],
 "metadata": {
  "interpreter": {
   "hash": "2a97c835aa520a10d6654ad56dd306e6bf25dd2bba14414fd708397e20a634e7"
  },
  "kernelspec": {
   "display_name": "Python 3.9.9 64-bit",
   "language": "python",
   "name": "python3"
  },
  "language_info": {
   "codemirror_mode": {
    "name": "ipython",
    "version": 3
   },
   "file_extension": ".py",
   "mimetype": "text/x-python",
   "name": "python",
   "nbconvert_exporter": "python",
   "pygments_lexer": "ipython3",
   "version": "3.9.9"
  },
  "orig_nbformat": 4
 },
 "nbformat": 4,
 "nbformat_minor": 2
}
