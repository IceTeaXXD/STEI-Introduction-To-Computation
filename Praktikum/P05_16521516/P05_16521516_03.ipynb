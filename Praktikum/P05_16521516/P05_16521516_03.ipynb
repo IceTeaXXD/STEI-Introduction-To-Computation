{
 "cells": [
  {
   "cell_type": "code",
   "execution_count": null,
   "metadata": {},
   "outputs": [],
   "source": [
    "# NIM/Nama  : 16521516/Ahmad Nadil\n",
    "# Tanggal   : 1 Desember 2021\n",
    "# Deskripsi : Visualisasi Pengguna Kartu Kredit\n",
    "# Judul     : Problem 3 Modul 5 Praktikum Pengenalan Komputasi 2021\n",
    "\n",
    "# Kamus :\n",
    "# import pandas as pd   = import library pandas dan assign pandas sebagai pd\n",
    "# df                    = variabel yang membaca data \"P05-1.csv\"                 \n",
    "# Status                = variabel yang menyatakan status pelanggan 'Existing Customer'\n",
    "# Pria                  = variabel yang menyatakan gender pelanggan sebagai 'M'\n",
    "# Marriage              = variabel yang menyatakan status perkawinan\n",
    "# .groupby()            = mengurutkan data berdasarkan suatu kolom tertentu   \n",
    "# .value_counts()       = membaca banyaknya data sesuai dengan nilai tiap data\n",
    "# .sort_values()        = pengurutan data berdasarkan kolom\n",
    "# .plot()               = menggambarkan/visualisasi data\n",
    "# .size()               = menentukan jumlah data\n",
    "# .unstack()            = fungsi mengubah seri menjadi tabel"
   ]
  },
  {
   "cell_type": "code",
   "execution_count": null,
   "metadata": {},
   "outputs": [],
   "source": [
    "# Import Module Pandas dan Membaca Data CSV\n",
    "import pandas as pd\n",
    "df = pd.read_csv(\"P05-01.csv\")"
   ]
  },
  {
   "cell_type": "code",
   "execution_count": null,
   "metadata": {},
   "outputs": [],
   "source": [
    "# 1. Histogram distribusi total nominal belum dibayar dengan pengguna status aktif dan bins 20\n",
    "Status = df.loc[df['Attrition_Flag'] == 'Existing Customer']\n",
    "Status[['Total_Revolving_Bal']].plot(kind = 'hist' , bins = 20, rwidth = 0.75)"
   ]
  },
  {
   "cell_type": "code",
   "execution_count": null,
   "metadata": {},
   "outputs": [],
   "source": [
    "# 2. Pie chart perbandingan banyaknya masing2 jenjang pendidikan terakhir dari pengguna dengan banyak transaksi selama 12 bulan terakhir di atas 30\n",
    "df.loc[df['Total_Trans_Ct'] > 30]['Education_Level'].value_counts().plot(kind='pie')"
   ]
  },
  {
   "cell_type": "code",
   "execution_count": null,
   "metadata": {},
   "outputs": [],
   "source": [
    "# 3. Scatter plot usia dan nominal limit kartu kredit berjenis kelamin pria\n",
    "pria = df.loc[df['Gender'] == 'M']\n",
    "pria.plot(kind='scatter', x = 'Customer_Age', y ='Credit_Limit')"
   ]
  },
  {
   "cell_type": "code",
   "execution_count": null,
   "metadata": {},
   "outputs": [],
   "source": [
    "# 4. Horizontal bar chart menggambarkan jumlah pengguna setiap tipe kartu\n",
    "df['Card_Category'].value_counts().plot(kind='barh', title = 'Jumlah pengguna setiap tipe kartu')"
   ]
  },
  {
   "cell_type": "code",
   "execution_count": null,
   "metadata": {},
   "outputs": [],
   "source": [
    "# 5. Stacked bar chart dengan status status perkawinan 'Married','Single',dan 'Divorced' dengan jenis kelamin sebagai x dan status perkawinan sebagai stacked y\n",
    "Marriage = df.loc[(df['Marital_Status'] == 'Married')|(df['Marital_Status'] == 'Single')|(df['Marital_Status'] == 'Divorced')]\n",
    "Marriage.groupby(['Gender','Marital_Status']).size().unstack().plot(kind='bar',stacked=True)"
   ]
  }
 ],
 "metadata": {
  "kernelspec": {
   "display_name": "Python 3.9.9 64-bit",
   "language": "python",
   "name": "python3"
  },
  "language_info": {
   "codemirror_mode": {
    "name": "ipython",
    "version": 3
   },
   "file_extension": ".py",
   "mimetype": "text/x-python",
   "name": "python",
   "nbconvert_exporter": "python",
   "pygments_lexer": "ipython3",
   "version": "3.9.9"
  },
  "orig_nbformat": 4,
  "vscode": {
   "interpreter": {
    "hash": "6931a9a621d8ff6d07958d162f21a10a58d4e8c949ccb5bafc32b10cd7b79477"
   }
  }
 },
 "nbformat": 4,
 "nbformat_minor": 2
}
