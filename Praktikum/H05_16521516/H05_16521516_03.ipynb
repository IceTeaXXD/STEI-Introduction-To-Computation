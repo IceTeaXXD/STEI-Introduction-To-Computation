{
 "cells": [
  {
   "cell_type": "code",
   "execution_count": null,
   "metadata": {},
   "outputs": [],
   "source": [
    "# NIM/Nama  : 16521516/Ahmad Nadil\n",
    "# Tanggal   : 30 November 2021\n",
    "# Deskripsi : Visualisasi Data Mahasiswa"
   ]
  },
  {
   "cell_type": "code",
   "execution_count": null,
   "metadata": {},
   "outputs": [],
   "source": [
    "# Import Pandas dan Matplotlib serta Membaca Data CSV\n",
    "import pandas as pd\n",
    "import matplotlib.pyplot as plt\n",
    "df = pd.read_csv('H05.csv')"
   ]
  },
  {
   "cell_type": "code",
   "execution_count": null,
   "metadata": {},
   "outputs": [],
   "source": [
    "# 1. Histogram Distribusi Nilai Matematika\n",
    "df[['nilai_mat']].plot(kind='hist', title = 'Histogram Distribusi Nilai MTK', rwidth = 0.8)"
   ]
  },
  {
   "cell_type": "code",
   "execution_count": null,
   "metadata": {},
   "outputs": [],
   "source": [
    "# 2. Diagram batang horizontal banyaknya mahasiswa masing-masing fakultas.\n",
    "df['fakultas'].value_counts().plot(kind='barh' , title='Diagram Batang Horizontal Mahasiswa Setiap Fakultas')"
   ]
  },
  {
   "cell_type": "code",
   "execution_count": null,
   "metadata": {},
   "outputs": [],
   "source": [
    "# 3.  Diagram pie banyaknya mahasiswa masing-masing fakultas\n",
    "df['fakultas'].value_counts().plot(kind='pie', title = 'Diagram Pie Mahasiswa Setiap Fakultas')"
   ]
  },
  {
   "cell_type": "code",
   "execution_count": null,
   "metadata": {},
   "outputs": [],
   "source": [
    "# 4.  Berdasarkan diagram pie dan batang horizontal, \n",
    "# manakah fakultas dengan mahasiswa terbanyak? \n",
    "# Man-akah diagram yang lebih baik dalam menampilkan fakultas dengan mahasiswa terbanyak dan mengapa?\n",
    "\n",
    "# Jawab :\n",
    "# Menurut saya, diagram batang horizontal lebih baik dalam menampilkan fakultas dengan mahasiswa.\n",
    "# Karena diagram tersebut lebih mudah dibaca dan terdapat frekuensi mahasiswa setiap fakultas"
   ]
  },
  {
   "cell_type": "code",
   "execution_count": null,
   "metadata": {},
   "outputs": [],
   "source": [
    "# 5. Scatter plot dengan nilai kimia sebagai x dan fisika sebagai y\n",
    "df.plot(kind='scatter',x='nilai_kim',y='nilai_fis', title = 'Scatter Plot Nilai Kimia dan Fisika')\n",
    "plt.show()"
   ]
  }
 ],
 "metadata": {
  "interpreter": {
   "hash": "2a97c835aa520a10d6654ad56dd306e6bf25dd2bba14414fd708397e20a634e7"
  },
  "kernelspec": {
   "display_name": "Python 3.9.9 64-bit",
   "language": "python",
   "name": "python3"
  },
  "language_info": {
   "codemirror_mode": {
    "name": "ipython",
    "version": 3
   },
   "file_extension": ".py",
   "mimetype": "text/x-python",
   "name": "python",
   "nbconvert_exporter": "python",
   "pygments_lexer": "ipython3",
   "version": "3.9.9"
  },
  "orig_nbformat": 4
 },
 "nbformat": 4,
 "nbformat_minor": 2
}
