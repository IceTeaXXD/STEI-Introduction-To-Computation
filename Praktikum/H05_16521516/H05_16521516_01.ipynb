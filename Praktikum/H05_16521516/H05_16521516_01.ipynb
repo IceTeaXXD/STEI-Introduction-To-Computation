{
 "cells": [
  {
   "cell_type": "code",
   "execution_count": null,
   "metadata": {},
   "outputs": [],
   "source": [
    "# NIM/Nama  : 16521516/Ahmad Nadil\n",
    "# Tanggal   : 30 November 2021\n",
    "# Deskripsi : Menulis Data Mahasiswa"
   ]
  },
  {
   "cell_type": "code",
   "execution_count": null,
   "metadata": {},
   "outputs": [],
   "source": [
    "# Import Module Pandas dan Membaca Data CSV\n",
    "import pandas as pd\n",
    "df = pd.read_csv(\"H05.csv\")"
   ]
  },
  {
   "cell_type": "code",
   "execution_count": null,
   "metadata": {},
   "outputs": [],
   "source": [
    "# 1. Menghitung Banyak Data\n",
    "print('Banyak Data : ' + str(len(df)))"
   ]
  },
  {
   "cell_type": "code",
   "execution_count": null,
   "metadata": {},
   "outputs": [],
   "source": [
    "# 2. 10 Data Pertama\n",
    "df.head(10)"
   ]
  },
  {
   "cell_type": "code",
   "execution_count": null,
   "metadata": {},
   "outputs": [],
   "source": [
    "# 3. Data ke-50 sampai ke-60\n",
    "df.loc[49:59]\n",
    "# Indeks batas dikurangi 1, karena data dimulai dari angka 0"
   ]
  },
  {
   "cell_type": "code",
   "execution_count": null,
   "metadata": {},
   "outputs": [],
   "source": [
    "# 4. Banyaknya Mahasiswa Tiap Fakultas\n",
    "df['fakultas'].value_counts()"
   ]
  },
  {
   "cell_type": "code",
   "execution_count": null,
   "metadata": {},
   "outputs": [],
   "source": [
    "# 5. Nilai Korelasi Fisika dan Kimia\n",
    "print('Nilai korelasi antara Fisika dan Kimia adalah : ')\n",
    "df[\"nilai_fis\"].corr(df[\"nilai_kim\"])\n",
    "\n",
    "# Jika nilai korelasi mendekati -1 , maka nilai Fisika dan Kimia berbanding terbalik\n",
    "# Jika nilai korelasi mendekati 0 ,  maka nilai Fisika dan Kimia tidak berhubungan\n",
    "# Jika nilai korelasi mendekati 1 , maka nilai Fisika dan Kimia berbanding lurus\n",
    "\n",
    "# Karena Nilai Korelasi yang diperolehbernilai 0.798 , angka tersebut mendekati 1, \n",
    "# maka nilai Fisika dan Kimia saling berhubungan berbanding lurus"
   ]
  }
 ],
 "metadata": {
  "interpreter": {
   "hash": "2a97c835aa520a10d6654ad56dd306e6bf25dd2bba14414fd708397e20a634e7"
  },
  "kernelspec": {
   "display_name": "Python 3.9.9 64-bit",
   "language": "python",
   "name": "python3"
  },
  "language_info": {
   "codemirror_mode": {
    "name": "ipython",
    "version": 3
   },
   "file_extension": ".py",
   "mimetype": "text/x-python",
   "name": "python",
   "nbconvert_exporter": "python",
   "pygments_lexer": "ipython3",
   "version": "3.9.9"
  },
  "orig_nbformat": 4
 },
 "nbformat": 4,
 "nbformat_minor": 2
}
