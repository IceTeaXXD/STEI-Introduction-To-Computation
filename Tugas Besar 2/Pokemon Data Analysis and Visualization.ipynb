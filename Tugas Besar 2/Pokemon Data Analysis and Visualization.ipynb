{
 "cells": [
  {
   "cell_type": "code",
   "execution_count": null,
   "metadata": {},
   "outputs": [],
   "source": [
    "# Tugas Besar 2 Pengenalan Komputasi Kelas 73\n",
    "# Kelas 73\n",
    "# 16521494 - Justin Yusuf Abidjoko\n",
    "# 16521496 - Kelvin Rayhan Alkarim\n",
    "# 16521516 - Ahmad Nadil\n",
    "# 16521534 - Raditya Naufal Abiyu\n"
   ]
  },
  {
   "cell_type": "code",
   "execution_count": null,
   "metadata": {},
   "outputs": [],
   "source": [
    "import matplotlib.pyplot as plt\n",
    "import pandas as pd\n",
    "df = pd.read_csv(\"Pokemon.csv\")"
   ]
  },
  {
   "cell_type": "code",
   "execution_count": null,
   "metadata": {},
   "outputs": [],
   "source": [
    "# Data Cleansing untuk menghapus nama depan Pokemon agar tidak double\n",
    "df = df.set_index('Name')\n",
    "df.index = df.index.str.replace(\".*(?=Mega)\", \"\")\n",
    "df.index = df.index.str.replace(\".*(?=Primal)\", \"\")\n",
    "df.head(10)"
   ]
  },
  {
   "cell_type": "code",
   "execution_count": null,
   "metadata": {},
   "outputs": [],
   "source": [
    "# Memberikan Info Data\n",
    "df.info()"
   ]
  },
  {
   "cell_type": "code",
   "execution_count": null,
   "metadata": {},
   "outputs": [],
   "source": [
    "# Data Type Pada Data Pokemon\n",
    "print('Nama-Nama Kolom Pada Data Pokemon : ')\n",
    "kolom = list(df.columns)\n",
    "for index in range (len(kolom)):\n",
    "    print(str(index+1) + '. ' + str(kolom[index]) + ' (' + str(df.dtypes[str(kolom[index])]) + ')')"
   ]
  },
  {
   "cell_type": "code",
   "execution_count": null,
   "metadata": {},
   "outputs": [],
   "source": [
    "# Memberikan Dimensi Data\n",
    "print('Dimensi Data : ' + str(len(df)) + ' baris x ' + str(len(df.columns)) + ' kolom')"
   ]
  },
  {
   "cell_type": "code",
   "execution_count": null,
   "metadata": {},
   "outputs": [],
   "source": [
    "# Menampilkan Kolom yang Terdapat dalam Data\n",
    "df.columns"
   ]
  },
  {
   "cell_type": "code",
   "execution_count": null,
   "metadata": {},
   "outputs": [],
   "source": [
    "# Menampilkan Nama Pokemon Dalam Data\n",
    "df = pd.read_csv(\"Pokemon.csv\")\n",
    "df['Name']"
   ]
  },
  {
   "cell_type": "code",
   "execution_count": null,
   "metadata": {},
   "outputs": [],
   "source": [
    "# Menampilkan Elemen Pokemon Pertama\n",
    "df['Type 1'].value_counts()"
   ]
  },
  {
   "cell_type": "code",
   "execution_count": null,
   "metadata": {},
   "outputs": [],
   "source": [
    "# Menampilkan Elemen Pokemon Kedua\n",
    "df['Type 2'].value_counts()"
   ]
  },
  {
   "cell_type": "code",
   "execution_count": null,
   "metadata": {},
   "outputs": [],
   "source": [
    "# Menampilkan Total Kekuatan Pokemon\n",
    "df['Total'].value_counts()"
   ]
  },
  {
   "cell_type": "code",
   "execution_count": null,
   "metadata": {},
   "outputs": [],
   "source": [
    "# Menampilkan HP (Darah) Pokemon\n",
    "df['HP'].value_counts()"
   ]
  },
  {
   "cell_type": "code",
   "execution_count": null,
   "metadata": {},
   "outputs": [],
   "source": [
    "# Menampilkan Data Kekuatan Penyerangan Pokemon\n",
    "df['Attack'].value_counts()"
   ]
  },
  {
   "cell_type": "code",
   "execution_count": null,
   "metadata": {},
   "outputs": [],
   "source": [
    "# Menampilkan Data Pertahanan Pokemon\n",
    "df['Defense'].value_counts()"
   ]
  },
  {
   "cell_type": "code",
   "execution_count": null,
   "metadata": {},
   "outputs": [],
   "source": [
    "# Menampilkan Data Penyerangan Spesial Pokemon\n",
    "df['Sp. Atk'].value_counts()"
   ]
  },
  {
   "cell_type": "code",
   "execution_count": null,
   "metadata": {},
   "outputs": [],
   "source": [
    "# Menampilkan Data Pertahanan Spesial Pokemon\n",
    "df['Sp. Def'].value_counts()"
   ]
  },
  {
   "cell_type": "code",
   "execution_count": null,
   "metadata": {},
   "outputs": [],
   "source": [
    "# Menampilkan Data Kecepatan Pokemon\n",
    "df['Speed'].value_counts()"
   ]
  },
  {
   "cell_type": "code",
   "execution_count": null,
   "metadata": {},
   "outputs": [],
   "source": [
    "# Menampilkan Data Generasi Pokemon\n",
    "df['Generation'].value_counts()"
   ]
  },
  {
   "cell_type": "code",
   "execution_count": null,
   "metadata": {},
   "outputs": [],
   "source": [
    "# Menampilkan Data Pokemon Legendaris\n",
    "df['Legendary'].value_counts()"
   ]
  },
  {
   "cell_type": "code",
   "execution_count": null,
   "metadata": {},
   "outputs": [],
   "source": [
    "# Sampel 10 Data Pertama \n",
    "df.head(10)\n"
   ]
  },
  {
   "cell_type": "code",
   "execution_count": null,
   "metadata": {},
   "outputs": [],
   "source": [
    "# Mengurutkan Pokemon Terkuat Berdasarkan 'Total'\n",
    "strong=df.sort_values(by='Total', ascending=False) \n",
    "print(strong)"
   ]
  },
  {
   "cell_type": "code",
   "execution_count": null,
   "metadata": {},
   "outputs": [],
   "source": [
    "# Mengurutkan Pokemon yang Memiliki Darah Terkecil\n",
    "weak=df.sort_values(by='HP', ascending=True) \n",
    "print(weak)"
   ]
  },
  {
   "cell_type": "code",
   "execution_count": null,
   "metadata": {},
   "outputs": [],
   "source": [
    "# Rata-Rata dari Kekuatan Total Pokemon\n",
    "print('Kekuatan Total : ' + str(df['Total'].mean()))"
   ]
  },
  {
   "cell_type": "code",
   "execution_count": null,
   "metadata": {},
   "outputs": [],
   "source": [
    "# Persentil 10% dari HP Pokemon\n",
    "print('Persentil 10% dari HP Pokemon : ' + str(df['HP'].quantile(0.1)))"
   ]
  },
  {
   "cell_type": "code",
   "execution_count": null,
   "metadata": {},
   "outputs": [],
   "source": [
    "# Persentil 25% dari HP Pokemon\n",
    "print('Persentil 25% dari HP Pokemon : ' + str(df['HP'].quantile(0.25)))"
   ]
  },
  {
   "cell_type": "code",
   "execution_count": null,
   "metadata": {},
   "outputs": [],
   "source": [
    "# Persentil 50% dari HP Pokemon\n",
    "print('Persentil 50% dari HP Pokemon : ' + str(df['HP'].quantile(0.5)))"
   ]
  },
  {
   "cell_type": "code",
   "execution_count": null,
   "metadata": {},
   "outputs": [],
   "source": [
    "# Persentil 75% dari HP Pokemon\n",
    "print('Persentil 75% dari HP Pokemon : ' + str(df['HP'].quantile(0.75)))"
   ]
  },
  {
   "cell_type": "code",
   "execution_count": null,
   "metadata": {},
   "outputs": [],
   "source": [
    "# Persentil 90% dari HP Pokemon\n",
    "print('Persentil 90% dari HP Pokemon : ' + str(df['HP'].quantile(0.9)))"
   ]
  },
  {
   "cell_type": "code",
   "execution_count": null,
   "metadata": {},
   "outputs": [],
   "source": [
    "# Mengurutkan Pokemon Berdasarkan Total Power \n",
    "df.sort_values([\"Total\"], ascending=[0], na_position=\"first\")"
   ]
  },
  {
   "cell_type": "code",
   "execution_count": null,
   "metadata": {},
   "outputs": [],
   "source": [
    "# Distribusi Elemen Pertama (Type 1) Pokemon\n",
    "print('Distribusi Frekuensi Elemen 1')\n",
    "df[\"Type 1\"].value_counts()"
   ]
  },
  {
   "cell_type": "code",
   "execution_count": null,
   "metadata": {},
   "outputs": [],
   "source": [
    "# Menampilkan Summary Data Pokemon\n",
    "df.describe()"
   ]
  },
  {
   "cell_type": "code",
   "execution_count": null,
   "metadata": {},
   "outputs": [],
   "source": [
    "# Perbandingan Jumlah Pokemon Pada Setiap Generasi\n",
    "df['Generation'].value_counts().plot(kind='bar',title='Perbandingan Jumlah Pokemon pada setiap Generasi')\n",
    "plt.show(block=False)"
   ]
  },
  {
   "cell_type": "code",
   "execution_count": null,
   "metadata": {},
   "outputs": [],
   "source": [
    "# Perbandingan Jumlah Pokemon pada setiap Tipe Elemen 1\n",
    "df['Type 1'].value_counts().plot(kind='bar',title='Perbandingan Jumlah Pokemon pada setiap Tipe Elemen 1')\n",
    "plt.show"
   ]
  },
  {
   "cell_type": "code",
   "execution_count": null,
   "metadata": {},
   "outputs": [],
   "source": [
    "# Perbandingan Jumlah Setiap Tipe Pokemon berdasarkan Generasinya\n",
    "a = df.groupby(['Generation', 'Type 1']).count().reset_index()\n",
    "a = a [['Generation', 'Type 1', 'Total']]\n",
    "a = a.pivot('Generation','Type 1','Total')\n",
    "a[['Water','Fire','Grass','Dragon','Normal','Rock','Flying','Electric']].plot(color=['b','r','g','#FFA500','brown','#6666ff','#001012','y'],marker='o',\n",
    "title = 'Perbandingan Jumlah Setiap Tipe Pokemon berdasarkan Generasinya')\n",
    "fig=plt.gcf()\n",
    "fig.set_size_inches(12,6)\n",
    "plt.show"
   ]
  },
  {
   "cell_type": "code",
   "execution_count": null,
   "metadata": {},
   "outputs": [],
   "source": [
    "# Perbandingan Jumlah Pokemon Legendary berdasarkan Generasinya\n",
    "a=df.groupby(['Generation','Legendary']).count().reset_index()\n",
    "a=a[['Generation','Legendary','Total']]\n",
    "a=a.pivot('Generation','Legendary','Total')\n",
    "a.plot(color=['b','r'],marker='o',\n",
    "title='Perbandingan Jumlah Pokemon Legendary berdasarkan Generasinya')\n",
    "fig=plt.gcf()\n",
    "fig.set_size_inches(12,6)\n",
    "plt.show()"
   ]
  },
  {
   "cell_type": "code",
   "execution_count": null,
   "metadata": {},
   "outputs": [],
   "source": [
    "# Persentase Jumlah Pokemon Berdasarkan Tipenya\n",
    "labels = 'Water', 'Normal', 'Grass', 'Bug', 'Psychic', 'Fire', 'Electric', 'Rock', 'Other'\n",
    "sizes = [112, 98, 70, 69, 57, 52, 44, 44, 175]\n",
    "colors = ['Blue', 'grey', '#77A646', 'green', 'purple', 'red', 'yellow', 'brown', '#E2E2E2']\n",
    "plt.pie(sizes, labels=labels, colors=colors,\n",
    "        autopct='%1.1f%%', startangle=90)\n",
    "plt.axis('equal')\n",
    "plt.title(\"Persentase Jumlah Pokemon berdasarkan Tipenya\")\n",
    "plt.plot()\n",
    "fig=plt.gcf()\n",
    "fig.set_size_inches(7,7)\n",
    "plt.show()"
   ]
  },
  {
   "cell_type": "code",
   "execution_count": null,
   "metadata": {},
   "outputs": [],
   "source": [
    "# Persentase Jumlah Pokemon Berdasarkan Generasinya\n",
    "labels = '1','5','3','4','2','6'\n",
    "sizes = df['Generation'].value_counts()\n",
    "plt.pie(sizes, autopct='%1.1f%%', labels=labels, shadow=True, startangle=90)\n",
    "plt.title(\"Persentase Jumlah Pokemon berdasarkan Generasinya\")\n",
    "fig=plt.gcf()\n",
    "fig.set_size_inches(7,7)\n",
    "plt.show()"
   ]
  },
  {
   "cell_type": "code",
   "execution_count": null,
   "metadata": {},
   "outputs": [],
   "source": [
    "# Grafik Hubungan Antara Attack dan Defense\n",
    "df.plot(kind='scatter',x='Attack',y='Defense', title = 'Grafik Hubungan antara Attack dan Defense')\n",
    "plt.show()"
   ]
  },
  {
   "cell_type": "code",
   "execution_count": null,
   "metadata": {},
   "outputs": [],
   "source": [
    "# Grafik Hubungan Antara Sp.Atk dan Sp. Def\n",
    "df.plot(kind='scatter',x='Sp. Atk',y='Sp. Def', title = 'Grafik Hubungan antara Sp. Atk dan Sp. Def')\n",
    "plt.show()"
   ]
  },
  {
   "cell_type": "code",
   "execution_count": null,
   "metadata": {},
   "outputs": [],
   "source": [
    "# Tabel Korelasi Antar Variabel Data\n",
    "df.corr()"
   ]
  },
  {
   "cell_type": "code",
   "execution_count": null,
   "metadata": {},
   "outputs": [],
   "source": [
    "df['Generation'].max()"
   ]
  },
  {
   "cell_type": "code",
   "execution_count": null,
   "metadata": {},
   "outputs": [],
   "source": [
    "objdf = df.select_dtypes(include=['object'])\n",
    "objdf[:]"
   ]
  },
  {
   "cell_type": "code",
   "execution_count": null,
   "metadata": {},
   "outputs": [],
   "source": [
    "df.select_dtypes(include = ['int64'])"
   ]
  }
 ],
 "metadata": {
  "interpreter": {
   "hash": "2a97c835aa520a10d6654ad56dd306e6bf25dd2bba14414fd708397e20a634e7"
  },
  "kernelspec": {
   "display_name": "Python 3.9.9 64-bit",
   "language": "python",
   "name": "python3"
  },
  "language_info": {
   "codemirror_mode": {
    "name": "ipython",
    "version": 3
   },
   "file_extension": ".py",
   "mimetype": "text/x-python",
   "name": "python",
   "nbconvert_exporter": "python",
   "pygments_lexer": "ipython3",
   "version": "3.9.9"
  },
  "orig_nbformat": 4
 },
 "nbformat": 4,
 "nbformat_minor": 2
}
