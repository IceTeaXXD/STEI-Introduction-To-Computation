{
 "cells": [
  {
   "cell_type": "code",
   "execution_count": null,
   "metadata": {},
   "outputs": [],
   "source": [
    "import pandas as pd\n",
    "df = pd.read_csv(\"data.csv\")"
   ]
  },
  {
   "cell_type": "code",
   "execution_count": null,
   "metadata": {},
   "outputs": [],
   "source": [
    "# Fungsi Menghitung Rata-Rata dari age\n",
    "df['age'].mean()"
   ]
  },
  {
   "cell_type": "code",
   "execution_count": null,
   "metadata": {},
   "outputs": [],
   "source": [
    "# Fungsi Menghitung Nilai Maksimum dari num_children\n",
    "print(df['num_children'].max())\n",
    "\n",
    "# Fungsi Menghitung Nilai Minimum dari num_children\n",
    "print(df['num_children'].min())"
   ]
  },
  {
   "cell_type": "code",
   "execution_count": null,
   "metadata": {},
   "outputs": [],
   "source": [
    "# Menampilkan Nama dan Umur orang yang memiliki num_pets terbanyak\n",
    "df1 = df.loc[df['num_pets'].idxmax()]\n",
    "print(df1['name'],df1['age'])"
   ]
  },
  {
   "cell_type": "code",
   "execution_count": null,
   "metadata": {},
   "outputs": [],
   "source": [
    "# Menampilkan korelasi antara banyaknya anak (num_children) dan banyaknya peliharaan (num_pets)\n",
    "df[\"num_children\"].corr(df[\"num_pets\"])"
   ]
  },
  {
   "cell_type": "code",
   "execution_count": null,
   "metadata": {},
   "outputs": [],
   "source": [
    "# Menampilkan banyaknya anak (num_children) dan banyaknya peliharaan (num_pets) per orang dalam 1 grafik.\n",
    "df.plot(kind=\"bar\",x=\"name\",y=[\"num_children\",\"num_pets\"])\n",
    "\n",
    "# Menurut saya, dengan menggunakan vertical bar, data akan lebih jelas terlihat, disini kita akan menampilkan dua variabel, yaitu \n",
    "# nama orang dengan jumlah anak serta peliharaannya. Data lebih mudah terbaca setiap nama orangnya serta frekuensi\n",
    "# banyaknya anak serta peliharaannya"
   ]
  },
  {
   "cell_type": "code",
   "execution_count": null,
   "metadata": {},
   "outputs": [],
   "source": [
    "# Menampilkan komposisi banyaknya orang per negara bagian (state)\n",
    "df['state'].value_counts().plot(kind='bar' , title='Orang per Negara Bagian')\n",
    "\n",
    "# Dengan menggunakan vertical bar, menurut saya data tiap negara bagian dan jumlahnya akan lebih mudah terbaca"
   ]
  }
 ],
 "metadata": {
  "interpreter": {
   "hash": "2a97c835aa520a10d6654ad56dd306e6bf25dd2bba14414fd708397e20a634e7"
  },
  "kernelspec": {
   "display_name": "Python 3.9.9 64-bit",
   "language": "python",
   "name": "python3"
  },
  "language_info": {
   "codemirror_mode": {
    "name": "ipython",
    "version": 3
   },
   "file_extension": ".py",
   "mimetype": "text/x-python",
   "name": "python",
   "nbconvert_exporter": "python",
   "pygments_lexer": "ipython3",
   "version": "3.9.9"
  },
  "orig_nbformat": 4
 },
 "nbformat": 4,
 "nbformat_minor": 2
}
