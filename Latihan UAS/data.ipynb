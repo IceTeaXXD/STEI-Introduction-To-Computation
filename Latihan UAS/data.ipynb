{
 "cells": [
  {
   "cell_type": "code",
   "execution_count": 4,
   "metadata": {},
   "outputs": [],
   "source": [
    "import pandas as pd\n",
    "df = pd.read_csv(\"data.csv\")"
   ]
  },
  {
   "cell_type": "code",
   "execution_count": 5,
   "metadata": {},
   "outputs": [
    {
     "data": {
      "text/plain": [
       "34.285714285714285"
      ]
     },
     "execution_count": 5,
     "metadata": {},
     "output_type": "execute_result"
    }
   ],
   "source": [
    "# Fungsi Menghitung Rata-Rata dari age\n",
    "df['age'].mean()"
   ]
  },
  {
   "cell_type": "code",
   "execution_count": 7,
   "metadata": {},
   "outputs": [
    {
     "name": "stdout",
     "output_type": "stream",
     "text": [
      "4\n",
      "0\n"
     ]
    }
   ],
   "source": [
    "# Fungsi Menghitung Nilai Maksimum dari num_children\n",
    "print(df['num_children'].max())\n",
    "\n",
    "# Fungsi Menghitung Nilai Minimum dari num_children\n",
    "print(df['num_children'].min())"
   ]
  },
  {
   "cell_type": "code",
   "execution_count": 14,
   "metadata": {},
   "outputs": [
    {
     "name": "stdout",
     "output_type": "stream",
     "text": [
      "john 23\n"
     ]
    }
   ],
   "source": [
    "# Menampilkan Nama dan Umur orang yang memiliki num_pets terbanyak\n",
    "df1 = df.loc[df['num_pets'].idxmax()]\n",
    "print(df1['name'],df1['age'])"
   ]
  },
  {
   "cell_type": "code",
   "execution_count": 15,
   "metadata": {},
   "outputs": [
    {
     "data": {
      "text/plain": [
       "0.7111041364983955"
      ]
     },
     "execution_count": 15,
     "metadata": {},
     "output_type": "execute_result"
    }
   ],
   "source": [
    "# Menampilkan korelasi antara banyaknya anak (num_children) dan banyaknya peliharaan (num_pets)\n",
    "df[\"num_children\"].corr(df[\"num_pets\"])"
   ]
  },
  {
   "cell_type": "code",
   "execution_count": 17,
   "metadata": {},
   "outputs": [
    {
     "data": {
      "text/plain": [
       "<AxesSubplot:xlabel='name'>"
      ]
     },
     "execution_count": 17,
     "metadata": {},
     "output_type": "execute_result"
    },
    {
     "data": {
      "image/png": "[encoded data removed]",
      "text/plain": [
       "<Figure size 432x288 with 1 Axes>"
      ]
     },
     "metadata": {
      "needs_background": "light"
     },
     "output_type": "display_data"
    }
   ],
   "source": [
    "# Menampilkan banyaknya anak (num_children) dan banyaknya peliharaan (num_pets) per orang dalam 1 grafik.\n",
    "df.plot(kind=\"bar\",x=\"name\",y=[\"num_children\",\"num_pets\"])\n",
    "\n",
    "# Menurut saya, dengan menggunakan vertical bar, data akan lebih jelas terlihat, disini kita akan menampilkan dua variabel, yaitu \n",
    "# nama orang dengan jumlah anak serta peliharaannya. Data lebih mudah terbaca setiap nama orangnya serta frekuensi\n",
    "# banyaknya anak serta peliharaannya"
   ]
  },
  {
   "cell_type": "code",
   "execution_count": 26,
   "metadata": {},
   "outputs": [
    {
     "data": {
      "text/plain": [
       "<AxesSubplot:title={'center':'Orang per Negara Bagian'}>"
      ]
     },
     "execution_count": 26,
     "metadata": {},
     "output_type": "execute_result"
    },
    {
     "data": {
      "image/png": "[encoded data removed]",
      "text/plain": [
       "<Figure size 432x288 with 1 Axes>"
      ]
     },
     "metadata": {
      "needs_background": "light"
     },
     "output_type": "display_data"
    }
   ],
   "source": [
    "# Menampilkan komposisi banyaknya orang per negara bagian (state)\n",
    "df['state'].value_counts().plot(kind='bar' , title='Orang per Negara Bagian')\n",
    "\n",
    "# Dengan menggunakan vertical bar, menurut saya data tiap negara bagian dan jumlahnya akan lebih mudah terbaca"
   ]
  }
 ],
 "metadata": {
  "interpreter": {
   "hash": "2a97c835aa520a10d6654ad56dd306e6bf25dd2bba14414fd708397e20a634e7"
  },
  "kernelspec": {
   "display_name": "Python 3.9.9 64-bit",
   "language": "python",
   "name": "python3"
  },
  "language_info": {
   "codemirror_mode": {
    "name": "ipython",
    "version": 3
   },
   "file_extension": ".py",
   "mimetype": "text/x-python",
   "name": "python",
   "nbconvert_exporter": "python",
   "pygments_lexer": "ipython3",
   "version": "3.9.9"
  },
  "orig_nbformat": 4
 },
 "nbformat": 4,
 "nbformat_minor": 2
}
